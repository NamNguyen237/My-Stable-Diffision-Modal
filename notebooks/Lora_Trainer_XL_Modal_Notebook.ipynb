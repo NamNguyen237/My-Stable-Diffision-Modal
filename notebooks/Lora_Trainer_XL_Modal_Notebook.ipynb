{
  "cells": [
    {
      "cell_type": "markdown",
      "metadata": {},
      "source": [
        "# Run Lora Trainer XL Colab on Modal Jupyter Notebook\n",
        "\n",
        "This notebook will set up an environment that can run \n",
        "__[XL Lora Trainer by Hollowstrawberry](https://github.com/hollowstrawberry/kohya-colab/blob/main/Lora_Trainer_XL.ipynb)__\n"
      ]
    },
    {
      "cell_type": "markdown",
      "metadata": {},
      "source": [
        "## 1. Setup Environment:\n",
        "Run each cells below in order from top to bottom"
      ]
    },
    {
      "cell_type": "markdown",
      "metadata": {},
      "source": [
        "1.1. The name of your project:"
      ]
    },
    {
      "cell_type": "code",
      "execution_count": 2,
      "metadata": {
        "collapsed": false,
        "scrolled": true
      },
      "outputs": [],
      "source": [
        "project_name = \"test\""
      ]
    },
    {
      "cell_type": "markdown",
      "metadata": {},
      "source": [
        "1.2. Prepare things"
      ]
    },
    {
      "cell_type": "code",
      "execution_count": null,
      "metadata": {
        "collapsed": false,
        "scrolled": true
      },
      "outputs": [],
      "source": [
        "!apt -y update -qq > /dev/null 2>&1\n",
        "!apt -y upgrade -qq > /dev/null 2>&1\n",
        "!apt install -y aria2 -qq > /dev/null 2>&1\n",
        "!curl https://rclone.org/install.sh | bash > /dev/null 2>&1\n",
        "import os\n",
        "root_dir = \"/content\"\n",
        "trainer_dir = os.path.join(root_dir, \"trainer\")\n",
        "drive_dir = f\"{root_dir}/drive\"\n",
        "MyDrive_dir = f\"{drive_dir}/MyDrive\"\n",
        "Lora_dir = f\"{MyDrive_dir}/Loras\"\n",
        "project_dir = f\"{Lora_dir}/{project_name}\"\n",
        "dataset_dir = f\"{project_dir}/dataset\"\n",
        "!mkdir -p {root_dir}\n",
        "!mkdir -p {drive_dir}\n",
        "!mkdir -p {MyDrive_dir}\n",
        "!mkdir -p {Lora_dir}\n",
        "!mkdir -p {project_dir}\n",
        "!mkdir -p {dataset_dir}\n",
        "!mkdir /root/.config/\n",
        "!mkdir /root/.config/rclone/\n",
        "!git clone --recurse-submodules https://github.com/derrian-distro/LoRA_Easy_Training_scripts_Backend.git {trainer_dir} > /dev/null 2>&1\n",
        "sd_scripts_dir = f\"{trainer_dir}/sd_scripts\"\n",
        "requirements_path = f\"{trainer_dir}/requirements.txt\""
      ]
    },
    {
      "cell_type": "markdown",
      "metadata": {},
      "source": [
        "1.3. Setup venv and install requires libraries"
      ]
    },
    {
      "cell_type": "code",
      "execution_count": null,
      "metadata": {
        "collapsed": false,
        "scrolled": true
      },
      "outputs": [],
      "source": [
        "os.chdir(sd_scripts_dir)\n",
        "!python -m venv venv\n",
        "!. venv/bin/activate && pip install --upgrade pip > /dev/null 2>&1\n",
        "!. venv/bin/activate && pip install -r {requirements_path} > /dev/null 2>&1\n",
        "!. venv/bin/activate && pip install accelerate transformers diffusers safetensors torch einops torchvision opencv-python-headless imagesize voluptuous bitsandbytes > /dev/null 2>&1 "
      ]
    },
    {
      "cell_type": "markdown",
      "metadata": {},
      "source": [
        "## 2. Upload dataset\n",
        "\n",
        "### __Instead of storing your Lora project files in Google Drive like when running in Google Colab, everything is stored locally in the Modal runtime environment. Therefore, you should not stop the Kernel without saving your data to your computer.__\n",
        "### __You can browse the files in the \"Files\" tab.__\n",
        "\n",
        "#### Location: /content/drive/MyDrive/Loras/{your-project-name}/dataset"
      ]
    },
    {
      "cell_type": "markdown",
      "metadata": {},
      "source": [
        "## 4. Run Trainer\n",
        "\n",
        "#### Set up all the parameters in advance on the Google Colab interface for easier and more intuitive operation, then copy the source code here and run it.\n",
        "\n",
        "#### The Folder Structure must be \"Organize by project\".\n",
        "\n",
        "\n",
        "\n",
        "#### Before run:\n",
        "Replace \n",
        "```python \n",
        "    if not get_ipython().__dict__['user_ns']['_exit_code']:\n",
        "```\n",
        "with \n",
        "```python\n",
        "    if not get_ipython().user_ns.get('_exit_code'):\n",
        "```\n",
        "to get rid of \"KeyError\"\n",
        "\n",
        "You might also consider set `LOWRAM` to `False` since Modal's runtime environment has a lot more RAM than Google Colab's."
      ]
    },
    {
      "cell_type": "code",
      "execution_count": null,
      "metadata": {
        "collapsed": false,
        "scrolled": true
      },
      "outputs": [],
      "source": []
    },
    {
      "cell_type": "markdown",
      "metadata": {},
      "source": [
        "## 5. When Done:\n",
        "### __Trained Lora files are stored locally in Modal's runtime instead of Google Drive. You should download it to your computer before terminate the Kernal because it will clear all your data.__\n",
        "### Location: /content/drive/MyDrive/Loras/{your-project-name}/output\n",
        "### Browse it on the \"Files\" tab."
      ]
    },
    {
      "cell_type": "markdown",
      "metadata": {},
      "source": [
        "## 5.1. Alternative: Using rclone\n",
        "\n",
        "If you don't have time to just sit on the computer waiting for it to complete, you can use rclone to copy the trained Loras to your Google Drive\n",
        "\n",
        "#### __If you use it, you should do steps 5.1.1 and 5.1.2 first, then run step 4: Run Trainer. Once the trainer is running, run step 5.1.3. This ensures that when you are not near the computer, when step 4 the trainer has finished training, your Lora will be copied to your Cloud by rclone immediately after.__"
      ]
    },
    {
      "cell_type": "markdown",
      "metadata": {},
      "source": [
        "### 5.1.1. Upload `rclone.conf` file to '/root/.config/rclone'\n"
      ]
    },
    {
      "cell_type": "markdown",
      "metadata": {},
      "source": [
        "### 5.1.2. Check if the 'rclone.conf' is loaded perfectly. If yes, it will list all Clouds that you have in your rclone.conf file.\n",
        "#### You fill in the name of the Cloud you want rclone to copy your Lora to."
      ]
    },
    {
      "cell_type": "code",
      "execution_count": null,
      "metadata": {
        "collapsed": false,
        "scrolled": true
      },
      "outputs": [],
      "source": [
        "!rclone listremotes"
      ]
    },
    {
      "cell_type": "code",
      "execution_count": null,
      "metadata": {
        "collapsed": false,
        "scrolled": true
      },
      "outputs": [],
      "source": [
        "cloud = \"\""
      ]
    },
    {
      "cell_type": "markdown",
      "metadata": {},
      "source": [
        "### 5.1.3. Run rclone "
      ]
    },
    {
      "cell_type": "code",
      "execution_count": null,
      "metadata": {
        "collapsed": false,
        "scrolled": true
      },
      "outputs": [],
      "source": [
        "from_dir = f\"{project_dir}/output\"\n",
        "to_dir = f\"{cloud}:/Loras/{project_name}/output\"\n",
        "!rclone copy --multi-thread-streams=16 --update \"$from_dir\" \"$to_dir\" --ignore-existing --checksum --transfers 16 -v --stats 10s"
      ]
    }
  ],
  "metadata": {
    "kernelspec": {
      "display_name": "Python",
      "language": "python",
      "name": "python3"
    },
    "language_info": {
      "codemirror_mode": {
        "name": "ipython",
        "version": 3
      },
      "file_extension": ".py",
      "mimetype": "text/x-python",
      "name": "python",
      "nbconvert_exporter": "python",
      "pygments_lexer": "ipython3"
    }
  },
  "nbformat": 4,
  "nbformat_minor": 5
}
