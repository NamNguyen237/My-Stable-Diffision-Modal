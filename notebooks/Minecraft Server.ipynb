{
 "cells": [
  {
   "cell_type": "markdown",
   "metadata": {
    "id": "GhMNHBYlqRHz"
   },
   "source": [
    "https://www.ionos.com/digitalguide/server/know-how/minecraft-server-linux/\n",
    "\n",
    "https://discuss.playit.gg/t/run-playit-on-linux-background-on-startup-updated-guide/786\n",
    "\n",
    "https://stackoverflow.com/questions/48459804/how-can-i-ssh-to-google-colaboratory-vm"
   ]
  },
  {
   "cell_type": "code",
   "execution_count": null,
   "metadata": {
    "colab": {
     "base_uri": "https://localhost:8080/",
     "height": 356
    },
    "executionInfo": {
     "elapsed": 12287,
     "status": "error",
     "timestamp": 1745646736656,
     "user": {
      "displayName": "Hồng Nam Nguyễn",
      "userId": "11462557224459998247"
     },
     "user_tz": -420
    },
    "id": "EKxGkYp_kYvB",
    "outputId": "39488323-fdb5-45ad-9c47-d28de6b9d956",
    "scrolled": true
   },
   "outputs": [],
   "source": [
    "#@title Install Dependencies\n",
    "\n",
    "!apt update\n",
    "!apt install openjdk-21-jre-headless -y\n",
    "!apt install zip unzip curl -y\n",
    "!curl https://rclone.org/install.sh | bash\n",
    "!mkdir /root/.config/\n",
    "!mkdir /root/.config/rclone/\n",
    "!mkdir /root/minecraft/\n"
   ]
  },
  {
   "cell_type": "code",
   "execution_count": 7,
   "metadata": {},
   "outputs": [],
   "source": [
    "!cp /root/lab/mount/rclone/rclone.conf /root/.config/rclone/"
   ]
  },
  {
   "cell_type": "code",
   "execution_count": 5,
   "metadata": {},
   "outputs": [
    {
     "name": "stdout",
     "output_type": "stream",
     "text": [
      "/root/lab/mount/rclone/rclone.conf\n"
     ]
    }
   ],
   "source": [
    "!find /root -name rclone.conf"
   ]
  },
  {
   "cell_type": "code",
   "execution_count": null,
   "metadata": {},
   "outputs": [],
   "source": [
    "file = \"2025-04-28_00-49-45\" + \".zip\"\n",
    "#@title Download Minecraft Server\n",
    "!rclone copy --multi-thread-streams=16 --update \"GDrive16T:/minecraft_server_backup/{file}\" \"/root/\" --ignore-existing --checksum --transfers 16 -v --stats 10s --drive-acknowledge-abuse\n",
    "!unzip -o \"/root/{file}\" -d \"/root/minecraft/\"\n",
    "!rm \"/root/{file}\""
   ]
  },
  {
   "cell_type": "code",
   "execution_count": null,
   "metadata": {
    "executionInfo": {
     "elapsed": 33,
     "status": "aborted",
     "timestamp": 1745646736685,
     "user": {
      "displayName": "Hồng Nam Nguyễn",
      "userId": "11462557224459998247"
     },
     "user_tz": -420
    },
    "id": "V3goYI1ghTez"
   },
   "outputs": [],
   "source": [
    "%cd /root/minecraft/content/drive/MyDrive/minecraft_server\n",
    "!java -Xms1G -XX:SoftMaxHeapSize=13G -Xmx15G -XX:+UseG1GC -XX:+ParallelRefProcEnabled -XX:MaxGCPauseMillis=200 -XX:+UnlockExperimentalVMOptions -XX:+DisableExplicitGC -XX:+AlwaysPreTouch -XX:G1NewSizePercent=30 -XX:G1MaxNewSizePercent=40 -XX:G1HeapRegionSize=8M -XX:G1ReservePercent=20 -XX:G1HeapWastePercent=5 -XX:G1MixedGCCountTarget=4 -XX:InitiatingHeapOccupancyPercent=15 -XX:G1MixedGCLiveThresholdPercent=90 -XX:G1RSetUpdatingPauseTimePercent=5 -XX:SurvivorRatio=32 -XX:+PerfDisableSharedMem -XX:MaxTenuringThreshold=1 -Dusing.aikars.flags=https://mcflags.emc.gs -Daikars.new.flags=true -jar server.jar nogui\n",
    "\n"
   ]
  },
  {
   "cell_type": "code",
   "execution_count": null,
   "metadata": {},
   "outputs": [],
   "source": [
    "#Backup\n",
    "from datetime import datetime, timezone, timedelta\n",
    "\n",
    "# Create a timezone object with a UTC offset of +7 hours\n",
    "offset = timedelta(hours=7)\n",
    "tz = timezone(offset)\n",
    "\n",
    "# Get the current date and time with the specified timezone\n",
    "date_time = datetime.now(tz) #changed the variable name\n",
    "# Format the datetime object into a string with spaces replaced by underscores\n",
    "formatted_date = date_time.strftime(\"%Y-%m-%d_%H-%M-%S\") #using strftime to format date and time\n",
    "path = \"/root/minecraft/content/drive/MyDrive/minecraft_server\"\n",
    "file = f\"/root/{formatted_date}.zip\" #changed variable here\n",
    "!zip -r -0 {file} {path}\n",
    "!rclone copy --multi-thread-streams=16 --update {file} \"GDrive16T:/minecraft_server_backup/\" --ignore-existing --checksum --transfers 16 -v --stats 10s --drive-acknowledge-abuse"
   ]
  }
 ],
 "metadata": {
  "colab": {
   "provenance": []
  },
  "kernelspec": {
   "display_name": "Python 3 (ipykernel)",
   "language": "python",
   "name": "python3"
  },
  "language_info": {
   "codemirror_mode": {
    "name": "ipython",
    "version": 3
   },
   "file_extension": ".py",
   "mimetype": "text/x-python",
   "name": "python",
   "nbconvert_exporter": "python",
   "pygments_lexer": "ipython3",
   "version": "3.11.5"
  }
 },
 "nbformat": 4,
 "nbformat_minor": 4
}
